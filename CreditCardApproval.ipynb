{
  "nbformat": 4,
  "nbformat_minor": 0,
  "metadata": {
    "colab": {
      "name": "CreditCardApproval.ipynb",
      "provenance": []
    },
    "kernelspec": {
      "name": "python3",
      "display_name": "Python 3"
    },
    "language_info": {
      "name": "python"
    }
  },
  "cells": [
    {
      "cell_type": "code",
      "metadata": {
        "id": "uNKoecYPMNL6"
      },
      "source": [
        "#importing necessary libraries\n",
        "import numpy as np\n",
        "import pandas as pd\n",
        "import matplotlib.pyplot as plt\n",
        "import seaborn as sns"
      ],
      "execution_count": null,
      "outputs": []
    },
    {
      "cell_type": "code",
      "metadata": {
        "colab": {
          "base_uri": "https://localhost:8080/"
        },
        "id": "yL-xhuHbMTfz",
        "outputId": "5d23ad13-807a-49cd-bbee-494ce3fedf2b"
      },
      "source": [
        "#loading the data into dataframe\n",
        "credit_data=pd.read_csv(\"/content/crx.data\",header=None)\n",
        "print(credit_data.head())"
      ],
      "execution_count": null,
      "outputs": [
        {
          "output_type": "stream",
          "name": "stdout",
          "text": [
            "  0      1      2  3  4  5  6     7  8  9   10 11 12     13   14 15\n",
            "0  b  30.83  0.000  u  g  w  v  1.25  t  t   1  f  g  00202    0  +\n",
            "1  a  58.67  4.460  u  g  q  h  3.04  t  t   6  f  g  00043  560  +\n",
            "2  a  24.50  0.500  u  g  q  h  1.50  t  f   0  f  g  00280  824  +\n",
            "3  b  27.83  1.540  u  g  w  v  3.75  t  t   5  t  g  00100    3  +\n",
            "4  b  20.17  5.625  u  g  w  v  1.71  t  f   0  f  s  00120    0  +\n"
          ]
        }
      ]
    },
    {
      "cell_type": "code",
      "metadata": {
        "colab": {
          "base_uri": "https://localhost:8080/",
          "height": 223
        },
        "id": "m17303PDxOTa",
        "outputId": "af70a894-7726-4757-9fe3-6488ad8a30dc"
      },
      "source": [
        "credit_data.columns=['Gender','Age','Debt','Married','BankCustomer','EducationLevel','Ethnicity','YearsEmployed','PriorDefault','Employed','CreditScore','DriversLicense','Citizen','ZipCode','Income','ApprovalStatus']\n",
        "credit_data.head()\n",
        "credit_data.tail()\n"
      ],
      "execution_count": null,
      "outputs": [
        {
          "output_type": "execute_result",
          "data": {
            "text/html": [
              "<div>\n",
              "<style scoped>\n",
              "    .dataframe tbody tr th:only-of-type {\n",
              "        vertical-align: middle;\n",
              "    }\n",
              "\n",
              "    .dataframe tbody tr th {\n",
              "        vertical-align: top;\n",
              "    }\n",
              "\n",
              "    .dataframe thead th {\n",
              "        text-align: right;\n",
              "    }\n",
              "</style>\n",
              "<table border=\"1\" class=\"dataframe\">\n",
              "  <thead>\n",
              "    <tr style=\"text-align: right;\">\n",
              "      <th></th>\n",
              "      <th>Gender</th>\n",
              "      <th>Age</th>\n",
              "      <th>Debt</th>\n",
              "      <th>Married</th>\n",
              "      <th>BankCustomer</th>\n",
              "      <th>EducationLevel</th>\n",
              "      <th>Ethnicity</th>\n",
              "      <th>YearsEmployed</th>\n",
              "      <th>PriorDefault</th>\n",
              "      <th>Employed</th>\n",
              "      <th>CreditScore</th>\n",
              "      <th>DriversLicense</th>\n",
              "      <th>Citizen</th>\n",
              "      <th>ZipCode</th>\n",
              "      <th>Income</th>\n",
              "      <th>ApprovalStatus</th>\n",
              "    </tr>\n",
              "  </thead>\n",
              "  <tbody>\n",
              "    <tr>\n",
              "      <th>685</th>\n",
              "      <td>b</td>\n",
              "      <td>21.08</td>\n",
              "      <td>10.085</td>\n",
              "      <td>y</td>\n",
              "      <td>p</td>\n",
              "      <td>e</td>\n",
              "      <td>h</td>\n",
              "      <td>1.25</td>\n",
              "      <td>f</td>\n",
              "      <td>f</td>\n",
              "      <td>0</td>\n",
              "      <td>f</td>\n",
              "      <td>g</td>\n",
              "      <td>00260</td>\n",
              "      <td>0</td>\n",
              "      <td>-</td>\n",
              "    </tr>\n",
              "    <tr>\n",
              "      <th>686</th>\n",
              "      <td>a</td>\n",
              "      <td>22.67</td>\n",
              "      <td>0.750</td>\n",
              "      <td>u</td>\n",
              "      <td>g</td>\n",
              "      <td>c</td>\n",
              "      <td>v</td>\n",
              "      <td>2.00</td>\n",
              "      <td>f</td>\n",
              "      <td>t</td>\n",
              "      <td>2</td>\n",
              "      <td>t</td>\n",
              "      <td>g</td>\n",
              "      <td>00200</td>\n",
              "      <td>394</td>\n",
              "      <td>-</td>\n",
              "    </tr>\n",
              "    <tr>\n",
              "      <th>687</th>\n",
              "      <td>a</td>\n",
              "      <td>25.25</td>\n",
              "      <td>13.500</td>\n",
              "      <td>y</td>\n",
              "      <td>p</td>\n",
              "      <td>ff</td>\n",
              "      <td>ff</td>\n",
              "      <td>2.00</td>\n",
              "      <td>f</td>\n",
              "      <td>t</td>\n",
              "      <td>1</td>\n",
              "      <td>t</td>\n",
              "      <td>g</td>\n",
              "      <td>00200</td>\n",
              "      <td>1</td>\n",
              "      <td>-</td>\n",
              "    </tr>\n",
              "    <tr>\n",
              "      <th>688</th>\n",
              "      <td>b</td>\n",
              "      <td>17.92</td>\n",
              "      <td>0.205</td>\n",
              "      <td>u</td>\n",
              "      <td>g</td>\n",
              "      <td>aa</td>\n",
              "      <td>v</td>\n",
              "      <td>0.04</td>\n",
              "      <td>f</td>\n",
              "      <td>f</td>\n",
              "      <td>0</td>\n",
              "      <td>f</td>\n",
              "      <td>g</td>\n",
              "      <td>00280</td>\n",
              "      <td>750</td>\n",
              "      <td>-</td>\n",
              "    </tr>\n",
              "    <tr>\n",
              "      <th>689</th>\n",
              "      <td>b</td>\n",
              "      <td>35.00</td>\n",
              "      <td>3.375</td>\n",
              "      <td>u</td>\n",
              "      <td>g</td>\n",
              "      <td>c</td>\n",
              "      <td>h</td>\n",
              "      <td>8.29</td>\n",
              "      <td>f</td>\n",
              "      <td>f</td>\n",
              "      <td>0</td>\n",
              "      <td>t</td>\n",
              "      <td>g</td>\n",
              "      <td>00000</td>\n",
              "      <td>0</td>\n",
              "      <td>-</td>\n",
              "    </tr>\n",
              "  </tbody>\n",
              "</table>\n",
              "</div>"
            ],
            "text/plain": [
              "    Gender    Age    Debt Married  ... Citizen ZipCode Income  ApprovalStatus\n",
              "685      b  21.08  10.085       y  ...       g   00260      0               -\n",
              "686      a  22.67   0.750       u  ...       g   00200    394               -\n",
              "687      a  25.25  13.500       y  ...       g   00200      1               -\n",
              "688      b  17.92   0.205       u  ...       g   00280    750               -\n",
              "689      b  35.00   3.375       u  ...       g   00000      0               -\n",
              "\n",
              "[5 rows x 16 columns]"
            ]
          },
          "metadata": {},
          "execution_count": 3
        }
      ]
    },
    {
      "cell_type": "code",
      "metadata": {
        "colab": {
          "base_uri": "https://localhost:8080/"
        },
        "id": "U6csetmRBcD1",
        "outputId": "1a4a5d39-c588-4fde-defd-8c3dc96ee5bb"
      },
      "source": [
        "credit_data.info()"
      ],
      "execution_count": null,
      "outputs": [
        {
          "output_type": "stream",
          "name": "stdout",
          "text": [
            "<class 'pandas.core.frame.DataFrame'>\n",
            "RangeIndex: 690 entries, 0 to 689\n",
            "Data columns (total 16 columns):\n",
            " #   Column          Non-Null Count  Dtype  \n",
            "---  ------          --------------  -----  \n",
            " 0   Gender          690 non-null    object \n",
            " 1   Age             690 non-null    object \n",
            " 2   Debt            690 non-null    float64\n",
            " 3   Married         690 non-null    object \n",
            " 4   BankCustomer    690 non-null    object \n",
            " 5   EducationLevel  690 non-null    object \n",
            " 6   Ethnicity       690 non-null    object \n",
            " 7   YearsEmployed   690 non-null    float64\n",
            " 8   PriorDefault    690 non-null    object \n",
            " 9   Employed        690 non-null    object \n",
            " 10  CreditScore     690 non-null    int64  \n",
            " 11  DriversLicense  690 non-null    object \n",
            " 12  Citizen         690 non-null    object \n",
            " 13  ZipCode         690 non-null    object \n",
            " 14  Income          690 non-null    int64  \n",
            " 15  ApprovalStatus  690 non-null    object \n",
            "dtypes: float64(2), int64(2), object(12)\n",
            "memory usage: 86.4+ KB\n"
          ]
        }
      ]
    },
    {
      "cell_type": "markdown",
      "metadata": {
        "id": "73h_bH-_95Rh"
      },
      "source": [
        "### Handling Inconsistent Data types and characters"
      ]
    },
    {
      "cell_type": "code",
      "metadata": {
        "colab": {
          "base_uri": "https://localhost:8080/"
        },
        "id": "vhOSMAyy9aYy",
        "outputId": "beae0046-0cfa-425a-adc7-719a4df5ed04"
      },
      "source": [
        "credit_data.dtypes"
      ],
      "execution_count": null,
      "outputs": [
        {
          "output_type": "execute_result",
          "data": {
            "text/plain": [
              "Gender             object\n",
              "Age                object\n",
              "Debt              float64\n",
              "Married            object\n",
              "BankCustomer       object\n",
              "EducationLevel     object\n",
              "Ethnicity          object\n",
              "YearsEmployed     float64\n",
              "PriorDefault       object\n",
              "Employed           object\n",
              "CreditScore         int64\n",
              "DriversLicense     object\n",
              "Citizen            object\n",
              "ZipCode            object\n",
              "Income              int64\n",
              "ApprovalStatus     object\n",
              "dtype: object"
            ]
          },
          "metadata": {},
          "execution_count": 5
        }
      ]
    },
    {
      "cell_type": "code",
      "metadata": {
        "colab": {
          "base_uri": "https://localhost:8080/"
        },
        "id": "qoJW3j5s9gRL",
        "outputId": "af0d5197-4562-4b87-d61f-c434b2136492"
      },
      "source": [
        "#credit_data['Age'].astype('int')\n",
        "#print(credit_data['Age'].dtypes)#conversion error\n",
        "\n",
        "credit_data['Age']=pd.to_numeric(credit_data['Age'],errors='coerce')\n",
        "print(credit_data['Age'].dtypes)"
      ],
      "execution_count": null,
      "outputs": [
        {
          "output_type": "stream",
          "name": "stdout",
          "text": [
            "float64\n"
          ]
        }
      ]
    },
    {
      "cell_type": "code",
      "metadata": {
        "colab": {
          "base_uri": "https://localhost:8080/"
        },
        "id": "JU-r9L0iuvmm",
        "outputId": "d8f8b45c-0fe7-4cc4-eb4b-550dbaa8e91a"
      },
      "source": [
        "#check for stray characters first.\n",
        "credit_data['Gender']=credit_data['Gender'].replace('?',np.nan)\n",
        "credit_data['Gender'].tail(20)"
      ],
      "execution_count": null,
      "outputs": [
        {
          "output_type": "execute_result",
          "data": {
            "text/plain": [
              "670      b\n",
              "671      b\n",
              "672      a\n",
              "673    NaN\n",
              "674      a\n",
              "675      a\n",
              "676      a\n",
              "677      b\n",
              "678      a\n",
              "679      a\n",
              "680      b\n",
              "681      b\n",
              "682      b\n",
              "683      b\n",
              "684      b\n",
              "685      b\n",
              "686      a\n",
              "687      a\n",
              "688      b\n",
              "689      b\n",
              "Name: Gender, dtype: object"
            ]
          },
          "metadata": {},
          "execution_count": 7
        }
      ]
    },
    {
      "cell_type": "code",
      "metadata": {
        "colab": {
          "base_uri": "https://localhost:8080/",
          "height": 295
        },
        "id": "OvvInmKi-dCE",
        "outputId": "282d24e5-ea16-49f8-d6ee-2953fc840a7d"
      },
      "source": [
        "credit_data.describe()"
      ],
      "execution_count": null,
      "outputs": [
        {
          "output_type": "execute_result",
          "data": {
            "text/html": [
              "<div>\n",
              "<style scoped>\n",
              "    .dataframe tbody tr th:only-of-type {\n",
              "        vertical-align: middle;\n",
              "    }\n",
              "\n",
              "    .dataframe tbody tr th {\n",
              "        vertical-align: top;\n",
              "    }\n",
              "\n",
              "    .dataframe thead th {\n",
              "        text-align: right;\n",
              "    }\n",
              "</style>\n",
              "<table border=\"1\" class=\"dataframe\">\n",
              "  <thead>\n",
              "    <tr style=\"text-align: right;\">\n",
              "      <th></th>\n",
              "      <th>Age</th>\n",
              "      <th>Debt</th>\n",
              "      <th>YearsEmployed</th>\n",
              "      <th>CreditScore</th>\n",
              "      <th>Income</th>\n",
              "    </tr>\n",
              "  </thead>\n",
              "  <tbody>\n",
              "    <tr>\n",
              "      <th>count</th>\n",
              "      <td>678.000000</td>\n",
              "      <td>690.000000</td>\n",
              "      <td>690.000000</td>\n",
              "      <td>690.00000</td>\n",
              "      <td>690.000000</td>\n",
              "    </tr>\n",
              "    <tr>\n",
              "      <th>mean</th>\n",
              "      <td>31.568171</td>\n",
              "      <td>4.758725</td>\n",
              "      <td>2.223406</td>\n",
              "      <td>2.40000</td>\n",
              "      <td>1017.385507</td>\n",
              "    </tr>\n",
              "    <tr>\n",
              "      <th>std</th>\n",
              "      <td>11.957862</td>\n",
              "      <td>4.978163</td>\n",
              "      <td>3.346513</td>\n",
              "      <td>4.86294</td>\n",
              "      <td>5210.102598</td>\n",
              "    </tr>\n",
              "    <tr>\n",
              "      <th>min</th>\n",
              "      <td>13.750000</td>\n",
              "      <td>0.000000</td>\n",
              "      <td>0.000000</td>\n",
              "      <td>0.00000</td>\n",
              "      <td>0.000000</td>\n",
              "    </tr>\n",
              "    <tr>\n",
              "      <th>25%</th>\n",
              "      <td>22.602500</td>\n",
              "      <td>1.000000</td>\n",
              "      <td>0.165000</td>\n",
              "      <td>0.00000</td>\n",
              "      <td>0.000000</td>\n",
              "    </tr>\n",
              "    <tr>\n",
              "      <th>50%</th>\n",
              "      <td>28.460000</td>\n",
              "      <td>2.750000</td>\n",
              "      <td>1.000000</td>\n",
              "      <td>0.00000</td>\n",
              "      <td>5.000000</td>\n",
              "    </tr>\n",
              "    <tr>\n",
              "      <th>75%</th>\n",
              "      <td>38.230000</td>\n",
              "      <td>7.207500</td>\n",
              "      <td>2.625000</td>\n",
              "      <td>3.00000</td>\n",
              "      <td>395.500000</td>\n",
              "    </tr>\n",
              "    <tr>\n",
              "      <th>max</th>\n",
              "      <td>80.250000</td>\n",
              "      <td>28.000000</td>\n",
              "      <td>28.500000</td>\n",
              "      <td>67.00000</td>\n",
              "      <td>100000.000000</td>\n",
              "    </tr>\n",
              "  </tbody>\n",
              "</table>\n",
              "</div>"
            ],
            "text/plain": [
              "              Age        Debt  YearsEmployed  CreditScore         Income\n",
              "count  678.000000  690.000000     690.000000    690.00000     690.000000\n",
              "mean    31.568171    4.758725       2.223406      2.40000    1017.385507\n",
              "std     11.957862    4.978163       3.346513      4.86294    5210.102598\n",
              "min     13.750000    0.000000       0.000000      0.00000       0.000000\n",
              "25%     22.602500    1.000000       0.165000      0.00000       0.000000\n",
              "50%     28.460000    2.750000       1.000000      0.00000       5.000000\n",
              "75%     38.230000    7.207500       2.625000      3.00000     395.500000\n",
              "max     80.250000   28.000000      28.500000     67.00000  100000.000000"
            ]
          },
          "metadata": {},
          "execution_count": 9
        }
      ]
    },
    {
      "cell_type": "markdown",
      "metadata": {
        "id": "ow8SgUo_45a4"
      },
      "source": [
        "### Handling Missing Values"
      ]
    },
    {
      "cell_type": "code",
      "metadata": {
        "colab": {
          "base_uri": "https://localhost:8080/",
          "height": 398
        },
        "id": "Ey5PkVhnsqA8",
        "outputId": "c62dbcbe-5b57-44b6-b665-e8c0467743a9"
      },
      "source": [
        "credit_data.hist()"
      ],
      "execution_count": null,
      "outputs": [
        {
          "output_type": "execute_result",
          "data": {
            "text/plain": [
              "array([[<matplotlib.axes._subplots.AxesSubplot object at 0x7ff300f95110>,\n",
              "        <matplotlib.axes._subplots.AxesSubplot object at 0x7ff300eec3d0>],\n",
              "       [<matplotlib.axes._subplots.AxesSubplot object at 0x7ff300ea2990>,\n",
              "        <matplotlib.axes._subplots.AxesSubplot object at 0x7ff300ed9f90>],\n",
              "       [<matplotlib.axes._subplots.AxesSubplot object at 0x7ff300e1b5d0>,\n",
              "        <matplotlib.axes._subplots.AxesSubplot object at 0x7ff300e50bd0>]],\n",
              "      dtype=object)"
            ]
          },
          "metadata": {},
          "execution_count": 10
        },
        {
          "output_type": "display_data",
          "data": {
            "image/png": "[encoded data removed]",
            "text/plain": [
              "<Figure size 432x288 with 6 Axes>"
            ]
          },
          "metadata": {
            "needs_background": "light"
          }
        }
      ]
    },
    {
      "cell_type": "code",
      "metadata": {
        "colab": {
          "base_uri": "https://localhost:8080/"
        },
        "id": "QMvrDfDjt2Pe",
        "outputId": "e6cf3e34-e6d5-46bd-8f6b-a00016aec8cc"
      },
      "source": [
        "#handling missing values for numeric data\n",
        "credit_data_numeric=credit_data.select_dtypes(include=['int','float'])\n",
        "numeric_cols=credit_data_numeric.columns.values\n",
        "print(numeric_cols)\n",
        "\n",
        "for col in numeric_cols:\n",
        "  missing=credit_data[col].isnull()\n",
        "  num_missing=np.sum(missing)\n",
        "\n",
        "  if num_missing>0:\n",
        "    m=credit_data[col].median()\n",
        "    credit_data[col]=credit_data[col].fillna(m)"
      ],
      "execution_count": null,
      "outputs": [
        {
          "output_type": "stream",
          "name": "stdout",
          "text": [
            "['Age' 'Debt' 'YearsEmployed' 'CreditScore' 'Income']\n"
          ]
        }
      ]
    },
    {
      "cell_type": "code",
      "metadata": {
        "colab": {
          "base_uri": "https://localhost:8080/"
        },
        "id": "Mta23rhVt2Qs",
        "outputId": "ac32706c-3476-40e7-8f92-bef667f3e1fc"
      },
      "source": [
        "#handling missing values for non-numeric data\n",
        "credit_data_non_numeric=credit_data.select_dtypes(exclude=['int','float'])\n",
        "non_numeric_cols=credit_data_non_numeric.columns.values\n",
        "print(non_numeric_cols)\n",
        "\n",
        "for col in non_numeric_cols:\n",
        "  missing=credit_data[col].isnull()\n",
        "  num_missing=np.sum(missing)\n",
        "  \n",
        "  if num_missing>0:\n",
        "    frequent=credit_data[col].mode().iloc[0] #compute most frequent values from each column and impute the value at index 0 as that would be the most frequent data.\n",
        "    credit_data[col]=credit_data.fillna(frequent)\n"
      ],
      "execution_count": null,
      "outputs": [
        {
          "output_type": "stream",
          "name": "stdout",
          "text": [
            "['Gender' 'Married' 'BankCustomer' 'EducationLevel' 'Ethnicity'\n",
            " 'PriorDefault' 'Employed' 'DriversLicense' 'Citizen' 'ZipCode'\n",
            " 'ApprovalStatus']\n"
          ]
        }
      ]
    },
    {
      "cell_type": "markdown",
      "metadata": {
        "id": "jjonGoso_rF4"
      },
      "source": [
        "### Checking for outliers"
      ]
    },
    {
      "cell_type": "code",
      "metadata": {
        "colab": {
          "base_uri": "https://localhost:8080/",
          "height": 282
        },
        "id": "qHQE3bKE-wRi",
        "outputId": "9bda464c-d4e4-47b5-e689-3012f7b5f366"
      },
      "source": [
        "### checking for outliers.\n",
        "#As our data is higly skewed there is a possibility that there are outliers in our dataset\n",
        "credit_data.boxplot()"
      ],
      "execution_count": null,
      "outputs": [
        {
          "output_type": "execute_result",
          "data": {
            "text/plain": [
              "<matplotlib.axes._subplots.AxesSubplot at 0x7ff300c71ed0>"
            ]
          },
          "metadata": {},
          "execution_count": 13
        },
        {
          "output_type": "display_data",
          "data": {
            "image/png": "[encoded data removed]",
            "text/plain": [
              "<Figure size 432x288 with 1 Axes>"
            ]
          },
          "metadata": {
            "needs_background": "light"
          }
        }
      ]
    },
    {
      "cell_type": "markdown",
      "metadata": {
        "id": "ghKA7dH8_QDR"
      },
      "source": [
        "It looks like Income column has some outliers compared to other columns so we will try to remove these outliers using Standard deviation detection."
      ]
    },
    {
      "cell_type": "code",
      "metadata": {
        "id": "6c5qT-LZNRzG",
        "colab": {
          "base_uri": "https://localhost:8080/"
        },
        "outputId": "09534456-3b05-4fcb-fffa-8624a5dc2e64"
      },
      "source": [
        "#handling outliers by standard deviation detection\n",
        "mean=credit_data['Income'].mean()\n",
        "std=credit_data['Income'].std()\n",
        "cut_off=std*3\n",
        "lower,upper=mean-cut_off,mean+cut_off\n",
        "credit_data=credit_data[(credit_data['Income']<upper) & (credit_data['Income']>lower)]\n",
        "print(type(credit_data))\n"
      ],
      "execution_count": null,
      "outputs": [
        {
          "output_type": "stream",
          "name": "stdout",
          "text": [
            "<class 'pandas.core.frame.DataFrame'>\n"
          ]
        }
      ]
    },
    {
      "cell_type": "code",
      "metadata": {
        "colab": {
          "base_uri": "https://localhost:8080/"
        },
        "id": "t6tCzUpqP3xK",
        "outputId": "b2474d75-3db0-49b0-bbbf-70b4401d3506"
      },
      "source": [
        "#converting non-numeric to numeric type using LabelEncoder\n",
        "from sklearn.preprocessing import LabelEncoder\n",
        "enc=LabelEncoder()\n",
        "\n",
        "for col in credit_data:\n",
        "    if credit_data[col].dtypes=='object':\n",
        "        credit_data[col]=enc.fit_transform(credit_data[col])\n"
      ],
      "execution_count": null,
      "outputs": [
        {
          "output_type": "stream",
          "name": "stderr",
          "text": [
            "/usr/local/lib/python3.7/dist-packages/ipykernel_launcher.py:9: SettingWithCopyWarning: \n",
            "A value is trying to be set on a copy of a slice from a DataFrame.\n",
            "Try using .loc[row_indexer,col_indexer] = value instead\n",
            "\n",
            "See the caveats in the documentation: https://pandas.pydata.org/pandas-docs/stable/user_guide/indexing.html#returning-a-view-versus-a-copy\n",
            "  if __name__ == '__main__':\n"
          ]
        }
      ]
    },
    {
      "cell_type": "code",
      "metadata": {
        "colab": {
          "base_uri": "https://localhost:8080/",
          "height": 566
        },
        "id": "weDW7R2xP3yd",
        "outputId": "51679d8d-8295-4af2-acf4-9f62fd1f025d"
      },
      "source": [
        "credit_data.hist()"
      ],
      "execution_count": null,
      "outputs": [
        {
          "output_type": "execute_result",
          "data": {
            "text/plain": [
              "array([[<matplotlib.axes._subplots.AxesSubplot object at 0x7ff300ef5d50>,\n",
              "        <matplotlib.axes._subplots.AxesSubplot object at 0x7ff2fe146750>,\n",
              "        <matplotlib.axes._subplots.AxesSubplot object at 0x7ff2fe0fdd50>,\n",
              "        <matplotlib.axes._subplots.AxesSubplot object at 0x7ff2fe0be390>],\n",
              "       [<matplotlib.axes._subplots.AxesSubplot object at 0x7ff2fe0f5990>,\n",
              "        <matplotlib.axes._subplots.AxesSubplot object at 0x7ff2fe0abf90>,\n",
              "        <matplotlib.axes._subplots.AxesSubplot object at 0x7ff2fe06d650>,\n",
              "        <matplotlib.axes._subplots.AxesSubplot object at 0x7ff2fe025b90>],\n",
              "       [<matplotlib.axes._subplots.AxesSubplot object at 0x7ff2fe025bd0>,\n",
              "        <matplotlib.axes._subplots.AxesSubplot object at 0x7ff2fdfe7310>,\n",
              "        <matplotlib.axes._subplots.AxesSubplot object at 0x7ff2fdf53d90>,\n",
              "        <matplotlib.axes._subplots.AxesSubplot object at 0x7ff2fdf173d0>],\n",
              "       [<matplotlib.axes._subplots.AxesSubplot object at 0x7ff2fdecc950>,\n",
              "        <matplotlib.axes._subplots.AxesSubplot object at 0x7ff2fde82f50>,\n",
              "        <matplotlib.axes._subplots.AxesSubplot object at 0x7ff2fde48590>,\n",
              "        <matplotlib.axes._subplots.AxesSubplot object at 0x7ff2fddfcb90>]],\n",
              "      dtype=object)"
            ]
          },
          "metadata": {},
          "execution_count": 17
        },
        {
          "output_type": "display_data",
          "data": {
            "image/png": "[encoded data removed]",
            "text/plain": [
              "<Figure size 432x288 with 16 Axes>"
            ]
          },
          "metadata": {
            "needs_background": "light"
          }
        }
      ]
    },
    {
      "cell_type": "code",
      "metadata": {
        "colab": {
          "base_uri": "https://localhost:8080/"
        },
        "id": "Gqta_ILta883",
        "outputId": "5c951cc9-3577-4209-e4ff-ce5eea1ec96d"
      },
      "source": [
        "# Import train_test_split\n",
        "from sklearn.model_selection import train_test_split\n",
        "\n",
        "credit_data=credit_data.to_numpy()\n",
        "X,y = credit_data[:,0:14] , credit_data[:,15]\n",
        "\n",
        "# Split into train and test sets\n",
        "X_train, X_test, y_train, y_test = train_test_split(X\n",
        "                                                    ,\n",
        "                                                    y,\n",
        "                                                    test_size=0.33,\n",
        "                                                    random_state=42,stratify=y)\n",
        "\n",
        "print(X_train)"
      ],
      "execution_count": null,
      "outputs": [
        {
          "output_type": "stream",
          "name": "stdout",
          "text": [
            "[[  1.    23.58   1.79 ...   1.     0.    43.  ]\n",
            " [  1.    19.42   7.25 ...   0.     0.    31.  ]\n",
            " [  1.    39.5    4.25 ...   0.     0.    36.  ]\n",
            " ...\n",
            " [  1.    39.25   9.5  ...   0.     0.    84.  ]\n",
            " [  1.    29.83   3.5  ...   0.     0.    74.  ]\n",
            " [  1.    29.42   1.25 ...   1.     0.   128.  ]]\n"
          ]
        }
      ]
    },
    {
      "cell_type": "code",
      "metadata": {
        "id": "l5MVIS0pa1fm"
      },
      "source": [
        "from sklearn.preprocessing import StandardScaler\n",
        "scale=StandardScaler()\n",
        "scaled_X_train=scale.fit_transform(X_train)\n",
        "scaled_X_test=scale.transform(X_test) #applying only the transform on test data as test data should not be standarized and seen during training"
      ],
      "execution_count": null,
      "outputs": []
    },
    {
      "cell_type": "code",
      "metadata": {
        "colab": {
          "base_uri": "https://localhost:8080/"
        },
        "id": "OzquXPIf22ml",
        "outputId": "6eea181d-14a3-4d7a-c3af-06d97b9c22ef"
      },
      "source": [
        "from sklearn.linear_model import LogisticRegression\n",
        "logreg=LogisticRegression()\n",
        "logreg.fit(scaled_X_train,y_train)"
      ],
      "execution_count": null,
      "outputs": [
        {
          "output_type": "execute_result",
          "data": {
            "text/plain": [
              "LogisticRegression(C=1.0, class_weight=None, dual=False, fit_intercept=True,\n",
              "                   intercept_scaling=1, l1_ratio=None, max_iter=100,\n",
              "                   multi_class='auto', n_jobs=None, penalty='l2',\n",
              "                   random_state=None, solver='lbfgs', tol=0.0001, verbose=0,\n",
              "                   warm_start=False)"
            ]
          },
          "metadata": {},
          "execution_count": 23
        }
      ]
    },
    {
      "cell_type": "code",
      "metadata": {
        "colab": {
          "base_uri": "https://localhost:8080/"
        },
        "id": "-AJitTgVqEhZ",
        "outputId": "0380b7aa-c41e-4dfb-a111-989fcbdb2957"
      },
      "source": [
        "#measuring model's performance and predicting on new unseen data\n",
        "# Import confusion_matrix\n",
        "from sklearn.metrics import confusion_matrix\n",
        "#import accuracy score\n",
        "from sklearn.metrics import accuracy_score\n",
        "\n",
        "\n",
        "# Use logreg to predict instances from the test set and store it\n",
        "y_pred = logreg.predict(scaled_X_test)\n",
        "\n",
        "# Get the accuracy score of logreg model and print it\n",
        "print(\"Accuracy score of logistic regression classifier: \", accuracy_score(y_test,y_pred))\n",
        "\n",
        "# Print the confusion matrix of the logreg model\n",
        "confusion_matrix(y_test,y_pred)"
      ],
      "execution_count": null,
      "outputs": [
        {
          "output_type": "stream",
          "name": "stdout",
          "text": [
            "Accuracy score of logistic regression classifier:  0.8495575221238938\n"
          ]
        },
        {
          "output_type": "execute_result",
          "data": {
            "text/plain": [
              "array([[ 88,  11],\n",
              "       [ 23, 104]])"
            ]
          },
          "metadata": {},
          "execution_count": 26
        }
      ]
    },
    {
      "cell_type": "code",
      "metadata": {
        "id": "hiCUxnG-qEiQ"
      },
      "source": [
        "#fine tuning our model using Grid Search CV\n",
        "param_grid= {'penalty':['l2'],\n",
        "            # 'solver':['newton-cg','liblinear','sag','saga'],\n",
        "             'max_iter':[100,150,200,250,300]\n",
        "             }\n",
        "\n",
        "#https://www.youtube.com/watch?v=pooXM9mM7FU"
      ],
      "execution_count": null,
      "outputs": []
    },
    {
      "cell_type": "code",
      "metadata": {
        "colab": {
          "base_uri": "https://localhost:8080/"
        },
        "id": "1FznI9XkyfN1",
        "outputId": "2754fd28-7e63-445d-dcd1-c81b9a94719b"
      },
      "source": [
        "from sklearn.model_selection import GridSearchCV\n",
        "clf=GridSearchCV(logreg,param_grid=param_grid,cv=5)\n",
        "best_clf=clf.fit(scaled_X_train,y_train)\n",
        "ypred=clf.predict(scaled_X_test)\n",
        "print(best_clf.best_estimator_)"
      ],
      "execution_count": null,
      "outputs": [
        {
          "output_type": "stream",
          "name": "stdout",
          "text": [
            "LogisticRegression(C=1.0, class_weight=None, dual=False, fit_intercept=True,\n",
            "                   intercept_scaling=1, l1_ratio=None, max_iter=100,\n",
            "                   multi_class='auto', n_jobs=None, penalty='l2',\n",
            "                   random_state=None, solver='lbfgs', tol=0.0001, verbose=0,\n",
            "                   warm_start=False)\n"
          ]
        }
      ]
    },
    {
      "cell_type": "code",
      "metadata": {
        "colab": {
          "base_uri": "https://localhost:8080/"
        },
        "id": "MyKMS85byfOx",
        "outputId": "29306b7c-9cfe-4d43-88ac-29bdbf2f6815"
      },
      "source": [
        "print('Accuracy is ',accuracy_score(y_test,ypred))"
      ],
      "execution_count": null,
      "outputs": [
        {
          "output_type": "stream",
          "name": "stdout",
          "text": [
            "Accuracy is  0.8495575221238938\n"
          ]
        }
      ]
    },
    {
      "cell_type": "code",
      "metadata": {
        "id": "fpJFtQcg4ruh"
      },
      "source": [
        ""
      ],
      "execution_count": null,
      "outputs": []
    }
  ]
}